{
 "cells": [
  {
   "cell_type": "code",
   "execution_count": 1,
   "metadata": {},
   "outputs": [
    {
     "name": "stdout",
     "output_type": "stream",
     "text": [
      "url\tdate\ttitle\tPER\tLOC\tORG\tTHINGS\tTOPICS\tAREA\n",
      "2010\n",
      "[('Flipboard', 8), ('Papa', 6), ('Ratzinger', 3), ('Roberto Cota', 2), ('Cayman', 2), ('Steve Jobs', 2), ('Apple Corps', 2), ('Paolo Ferrandi', 2), (' Bruno Ruffilli', 1), ('Walkman', 1)]\n",
      " \n",
      "2011\n",
      "[('Schulz', 6), ('Snoopy', 4), ('Justin.tv', 4), ('Charlie', 3), ('Napolitano', 2), ('Linus', 2), ('Gina', 2), ('Sebastopol', 2), ('Twitch.tv', 2), ('nostro Sole', 2)]\n",
      " \n",
      "2012\n",
      "[('Adam', 12), ('Lanza', 12), ('Papa', 10), ('Ryan Lanza', 7), ('Grasso', 7), ('Van Zant', 6), ('Young', 5), ('Foto', 3), ('Norodom Sihanouk', 3), ('Pol Pot', 3)]\n",
      " \n",
      "2013\n",
      "[('Johnson', 30), ('Kennedy', 25), ('Obama', 10), ('JFK', 10), ('Snoopy', 6), ('Everett', 6), ('Dallas', 6), ('Lyndon Johnson', 6), ('Connally', 6), ('Linus', 5)]\n",
      " \n",
      "2014\n",
      "[('Gucci', 24), ('Inbox', 14), ('Justin Fenton', 14), ('@justin_fenton', 14), ('Duncan', 10), ('Vinson', 8), ('Amber Joy Vinson', 6), ('Dallas', 6), ('Facebook', 5), ('Thomas Eric Duncan', 5)]\n",
      " \n",
      "2015\n",
      "[('Watterson', 30), ('Lagerfeld', 16), ('Calvin', 16), ('Stoner', 16), ('Flipboard', 13), ('Rovelli', 12), ('Louis Vuitton', 11), ('Robinson', 10), ('Hitler', 10), ('Lawrence', 9)]\n",
      " \n",
      "2016\n",
      "[('Putin', 28), ('Clinton', 26), ('Samsung', 25), ('Sellerio', 21), ('Gentiloni', 18), ('Netflix', 17), ('Doctor Strange', 17), ('Lackington', 13), ('Renzi', 13), ('De Mita', 12)]\n",
      " \n",
      "2017\n",
      "[('Manson', 72), ('Moore', 65), ('Zaia', 20), ('Tesla', 20), ('Weinstein', 19), ('Disclaimer', 18), ('Nxivm', 17), ('Rodin', 16), ('Banca', 14), ('Kennedy', 13)]\n",
      " \n",
      "2018\n",
      "[('Facebook', 77), ('Instagram', 59), ('Salvini', 36), ('Smith', 34), ('Snapchat', 30), ('Matteo Salvini', 26), ('Getty Images', 23), ('Zingaretti', 22), ('Frank', 22), ('Unieuro', 22)]\n",
      " \n"
     ]
    }
   ],
   "source": [
    "from collections import Counter\n",
    "\n",
    "doc = open(\"post-largerdump1.tsv\",\"r\").read().strip().split(\"\\n\")\n",
    "\n",
    "print (doc[0])\n",
    "\n",
    "years = [x.split(\"\\t\")[1][:4] for x in doc[1:]]\n",
    "years = {x:[] for x in years}\n",
    "\n",
    "col = 3\n",
    "k = 10\n",
    "\n",
    "\n",
    "for x in doc[1:]:\n",
    "    for el in x.split(\"\\t\")[col].split(\";\"):\n",
    "        if len(el)>1:\n",
    "            years[x.split(\"\\t\")[1][:4]].append(el)\n",
    "            \n",
    "\n",
    "for year,el in years.items():\n",
    "    print (year)\n",
    "    print (Counter(el).most_common(k))\n",
    "    print (\" \")"
   ]
  }
 ],
 "metadata": {
  "kernelspec": {
   "display_name": "Python 3",
   "language": "python",
   "name": "python3"
  },
  "language_info": {
   "codemirror_mode": {
    "name": "ipython",
    "version": 3
   },
   "file_extension": ".py",
   "mimetype": "text/x-python",
   "name": "python",
   "nbconvert_exporter": "python",
   "pygments_lexer": "ipython3",
   "version": "3.6.7"
  }
 },
 "nbformat": 4,
 "nbformat_minor": 2
}
